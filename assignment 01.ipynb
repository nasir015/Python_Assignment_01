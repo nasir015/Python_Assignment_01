{
 "cells": [
  {
   "attachments": {},
   "cell_type": "markdown",
   "metadata": {},
   "source": [
    "### Question 1\n",
    "\n",
    "Q1. Create one variable containing following type of data:\n",
    "\n",
    "(i) string\n",
    "\n",
    "(ii) list\n",
    "\n",
    "(iii) float\n",
    "\n",
    "(iv) tuple"
   ]
  },
  {
   "attachments": {},
   "cell_type": "markdown",
   "metadata": {},
   "source": [
    "### Solution"
   ]
  },
  {
   "cell_type": "code",
   "execution_count": 1,
   "metadata": {},
   "outputs": [],
   "source": [
    "\n",
    "my_string = \"Hello, world!\"\n",
    "my_list = [1, 2, 3, \"four\", \"five\"]\n",
    "my_float = 3.14159\n",
    "my_tuple = (10, 20, 30, 40, 50)"
   ]
  },
  {
   "attachments": {},
   "cell_type": "markdown",
   "metadata": {},
   "source": [
    "### Question 2\n",
    "\n",
    "Q2. Given are some following variables containing data:\n",
    "\n",
    "(i) var1 = ‘ ‘\n",
    "\n",
    "(ii) var2 = ‘[ DS , ML , Python]’\n",
    "\n",
    "(iii) var3 = [ ‘DS’ , ’ML’ , ‘Python’ ]\n",
    "\n",
    "(iv) var4 = 1.\n",
    "\n",
    "What will be the data type of the above given variable."
   ]
  },
  {
   "attachments": {},
   "cell_type": "markdown",
   "metadata": {},
   "source": [
    "### Solution"
   ]
  },
  {
   "cell_type": "code",
   "execution_count": 3,
   "metadata": {},
   "outputs": [
    {
     "name": "stdout",
     "output_type": "stream",
     "text": [
      "<class 'str'>\n",
      "<class 'str'>\n",
      "<class 'list'>\n",
      "<class 'float'>\n"
     ]
    }
   ],
   "source": [
    "\n",
    "var1 = ''\n",
    "var2 = '[ DS , ML , Python]'\n",
    "var3 = [ 'DS' , 'ML' , 'Python']\n",
    "var4 = 1.\n",
    "\n",
    "print(type(var1))\n",
    "print(type(var2))\n",
    "print(type(var3))\n",
    "print(type(var4))\n"
   ]
  },
  {
   "attachments": {},
   "cell_type": "markdown",
   "metadata": {},
   "source": [
    "### Question 3\n",
    "\n",
    "Q3. Explain the use of the following operators using an example:\n",
    "\n",
    "(i) /\n",
    "\n",
    "(ii) %\n",
    "\n",
    "(iii) //\n",
    "\n",
    "(iv) **"
   ]
  },
  {
   "attachments": {},
   "cell_type": "markdown",
   "metadata": {},
   "source": [
    "### Solution"
   ]
  },
  {
   "attachments": {},
   "cell_type": "markdown",
   "metadata": {},
   "source": [
    "(i) The \"/\" operator is used for division in most programming languages. It divides the value on the left-hand side by the value on the right-hand side and returns the quotient as the result."
   ]
  },
  {
   "cell_type": "code",
   "execution_count": 4,
   "metadata": {},
   "outputs": [
    {
     "name": "stdout",
     "output_type": "stream",
     "text": [
      "3.3333333333333335\n"
     ]
    }
   ],
   "source": [
    "# Example: \n",
    "a = 10\n",
    "b = 3\n",
    "result = a / b\n",
    "\n",
    "print(result)"
   ]
  },
  {
   "attachments": {},
   "cell_type": "markdown",
   "metadata": {},
   "source": [
    "(ii) The \"%\" operator is known as the modulo operator. It calculates the remainder of the division between two numbers. It returns the remainder as the result."
   ]
  },
  {
   "cell_type": "code",
   "execution_count": 5,
   "metadata": {},
   "outputs": [
    {
     "name": "stdout",
     "output_type": "stream",
     "text": [
      "1\n"
     ]
    }
   ],
   "source": [
    "# Example:\n",
    "a = 10\n",
    "b = 3\n",
    "result = a % b\n",
    "\n",
    "print(result)"
   ]
  },
  {
   "attachments": {},
   "cell_type": "markdown",
   "metadata": {},
   "source": [
    "(iii) The \"//\" operator is called the floor division or integer division operator. It performs division similar to the \"/\" operator, but it returns the quotient as an integer value, rounding down to the nearest whole number."
   ]
  },
  {
   "cell_type": "code",
   "execution_count": 6,
   "metadata": {},
   "outputs": [
    {
     "name": "stdout",
     "output_type": "stream",
     "text": [
      "3\n"
     ]
    }
   ],
   "source": [
    "# Example:\n",
    "a = 10\n",
    "b = 3\n",
    "result = a // b\n",
    "\n",
    "print(result)\n"
   ]
  },
  {
   "attachments": {},
   "cell_type": "markdown",
   "metadata": {},
   "source": [
    "(iv) The \"**\" operator is used for exponentiation or raising a number to a power. It takes the number on the left-hand side as the base and the number on the right-hand side as the exponent."
   ]
  },
  {
   "cell_type": "code",
   "execution_count": 7,
   "metadata": {},
   "outputs": [
    {
     "name": "stdout",
     "output_type": "stream",
     "text": [
      "8\n"
     ]
    }
   ],
   "source": [
    "# Example:\n",
    "a = 2\n",
    "b = 3\n",
    "result = a ** b\n",
    "\n",
    "print(result)"
   ]
  },
  {
   "attachments": {},
   "cell_type": "markdown",
   "metadata": {},
   "source": [
    "### Question 4\n",
    "\n",
    "Q4. Create a list of length 10 of your choice containing multiple types of data. Using for loop print the\n",
    "element and its data type."
   ]
  },
  {
   "attachments": {},
   "cell_type": "markdown",
   "metadata": {},
   "source": [
    "### Solution"
   ]
  },
  {
   "cell_type": "code",
   "execution_count": 9,
   "metadata": {},
   "outputs": [
    {
     "name": "stdout",
     "output_type": "stream",
     "text": [
      "The element is  1  and its data type is  <class 'int'>\n",
      "The element is  2  and its data type is  <class 'int'>\n",
      "The element is  3  and its data type is  <class 'int'>\n",
      "The element is  4  and its data type is  <class 'int'>\n",
      "The element is  5  and its data type is  <class 'int'>\n",
      "The element is  Nasir  and its data type is  <class 'str'>\n",
      "The element is  ['Nasir', 'Ali']  and its data type is  <class 'list'>\n",
      "The element is  3.14  and its data type is  <class 'float'>\n",
      "The element is  (5, 6)  and its data type is  <class 'tuple'>\n",
      "The element is  {'a': 1, 'b': 2}  and its data type is  <class 'dict'>\n"
     ]
    }
   ],
   "source": [
    "List = [1,2,3,4,5,'Nasir',['Nasir','Ali'],3.14,(5,6),{'a':1,'b':2}]\n",
    "\n",
    "for i in List:\n",
    "    print('The element is ',i,' and its data type is ',type(i))\n",
    "\n"
   ]
  },
  {
   "attachments": {},
   "cell_type": "markdown",
   "metadata": {},
   "source": [
    "### Question 5\n",
    "\n",
    "Q5. Using a while loop, verify if the number A is purely divisible by number B and if so then how many\n",
    "times it can be divisible."
   ]
  },
  {
   "attachments": {},
   "cell_type": "markdown",
   "metadata": {},
   "source": [
    "### Solution"
   ]
  },
  {
   "cell_type": "code",
   "execution_count": 10,
   "metadata": {},
   "outputs": [
    {
     "name": "stdout",
     "output_type": "stream",
     "text": [
      "Number A is divisible by B 1 times.\n"
     ]
    }
   ],
   "source": [
    "A = int(input(\"Enter the number A: \"))\n",
    "B = int(input(\"Enter the number B: \"))\n",
    "\n",
    "count = 0  # Variable to count the number of divisions\n",
    "\n",
    "while A % B == 0:\n",
    "    A = A / B\n",
    "    count += 1\n",
    "\n",
    "if count > 0:\n",
    "    print(f\"Number A is divisible by B {count} times.\")\n",
    "else:\n",
    "    print(\"Number A is not divisible by B.\")\n"
   ]
  },
  {
   "attachments": {},
   "cell_type": "markdown",
   "metadata": {},
   "source": [
    "### Question\n",
    "Q6. Create a list containing 25 int type data. Using for loop and if-else condition print if the element is\n",
    "divisible by 3 or not."
   ]
  },
  {
   "attachments": {},
   "cell_type": "markdown",
   "metadata": {},
   "source": [
    "### Solution"
   ]
  },
  {
   "cell_type": "code",
   "execution_count": null,
   "metadata": {},
   "outputs": [],
   "source": [
    "# Creating a list of 25 integers\n",
    "data_list = [9, 5, 12, 18, 7, 21, 16, 3, 8, 14, 27, 6, 10, 22, 30, 11, 25, 33, 15, 4, 20, 17, 24, 36, 13]\n",
    "\n",
    "# Iterating through each element in the list\n",
    "for num in data_list:\n",
    "    if num % 3 == 0:\n",
    "        print(f\"{num} is divisible by 3.\")\n",
    "    else:\n",
    "        print(f\"{num} is not divisible by 3.\")\n"
   ]
  },
  {
   "attachments": {},
   "cell_type": "markdown",
   "metadata": {},
   "source": [
    "### Question\n",
    "Q7. What do you understand about mutable and immutable data types? Give examples for both showing\n",
    "this property."
   ]
  },
  {
   "attachments": {},
   "cell_type": "markdown",
   "metadata": {},
   "source": [
    "### Solution"
   ]
  },
  {
   "attachments": {},
   "cell_type": "markdown",
   "metadata": {},
   "source": [
    "In programming, mutable and immutable are two fundamental concepts related to data types.\n",
    "\n",
    "Immutable data types are those whose values cannot be changed after they are created. If you want to modify an immutable object, you need to create a new object with the desired changes. Examples of immutable data types include:\n",
    "\n",
    "1. Strings: Once a string is created, you cannot modify its characters individually. However, you can create a new string by concatenating or slicing existing strings.\n",
    "\n",
    "```python\n",
    "string = \"Hello\"\n",
    "new_string = string + \" World\"\n",
    "print(new_string)  # Output: \"Hello World\"\n",
    "```\n",
    "\n",
    "2. Tuples: Tuples are ordered, immutable collections of objects. Once a tuple is created, you cannot modify its elements individually. However, you can create a new tuple by concatenating or slicing existing tuples.\n",
    "\n",
    "```python\n",
    "tuple1 = (1, 2, 3)\n",
    "tuple2 = tuple1 + (4, 5)\n",
    "print(tuple2)  # Output: (1, 2, 3, 4, 5)\n",
    "```\n",
    "\n",
    "On the other hand, mutable data types are those whose values can be changed after they are created. You can modify mutable objects directly without creating new objects. Examples of mutable data types include:\n",
    "\n",
    "1. Lists: Lists are ordered, mutable collections of objects. You can modify the elements of a list directly by assigning new values or using list methods.\n",
    "\n",
    "```python\n",
    "my_list = [1, 2, 3]\n",
    "my_list[0] = 10\n",
    "print(my_list)  # Output: [10, 2, 3]\n",
    "```\n",
    "\n",
    "2. Dictionaries: Dictionaries are mutable key-value pairs. You can modify the values associated with specific keys in a dictionary.\n",
    "\n",
    "```python\n",
    "my_dict = {\"name\": \"John\", \"age\": 25}\n",
    "my_dict[\"age\"] = 30\n",
    "print(my_dict)  # Output: {'name': 'John', 'age': 30}\n",
    "```\n",
    "\n",
    "In summary, mutable data types allow in-place modifications to their values, while immutable data types require creating new objects with the desired changes."
   ]
  }
 ],
 "metadata": {
  "kernelspec": {
   "display_name": "Python 3",
   "language": "python",
   "name": "python3"
  },
  "language_info": {
   "codemirror_mode": {
    "name": "ipython",
    "version": 3
   },
   "file_extension": ".py",
   "mimetype": "text/x-python",
   "name": "python",
   "nbconvert_exporter": "python",
   "pygments_lexer": "ipython3",
   "version": "3.10.0"
  },
  "orig_nbformat": 4
 },
 "nbformat": 4,
 "nbformat_minor": 2
}
